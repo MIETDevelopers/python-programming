{
 "cells": [
  {
   "cell_type": "code",
   "execution_count": 2,
   "id": "63d6e47b",
   "metadata": {},
   "outputs": [
    {
     "name": "stdout",
     "output_type": "stream",
     "text": [
      "Name:Yuv Raj khajuria\n",
      "Roll no:47\n",
      "Email Id:2020a1r047@mietjammu.in\n",
      "Gender:male\n",
      "DOB:10/05/2003\n",
      "City:Jammu\n",
      "Semester:5th\n",
      "Section:A1\n",
      "Phone No.:1234567890\n"
     ]
    }
   ],
   "source": [
    "database = [(\"Yuv Raj khajuria\", 47, \"2020a1r047@mietjammu.in\",'male','10/05/2003','Jammu','5th','A1',1234567890)]\n",
    "\n",
    "def quering():\n",
    "    for idx,element in enumerate(database):\n",
    "        print(f\"Name:{database[idx][0]}\")\n",
    "        print(f\"Roll no:{database[idx][1]}\")\n",
    "        print(f\"Email Id:{database[idx][2]}\")\n",
    "        print(f\"Gender:{database[idx][3]}\")\n",
    "        print(f\"DOB:{database[idx][4]}\")\n",
    "        print(f\"City:{database[idx][5]}\")\n",
    "        print(f\"Semester:{database[idx][6]}\")\n",
    "        print(f\"Section:{database[idx][7]}\")\n",
    "        print(f\"Phone No.:{database[idx][8]}\")\n",
    "        \n",
    "quering()"
   ]
  },
  {
   "cell_type": "code",
   "execution_count": null,
   "id": "bbd184b4",
   "metadata": {},
   "outputs": [],
   "source": []
  }
 ],
 "metadata": {
  "kernelspec": {
   "display_name": "Python 3 (ipykernel)",
   "language": "python",
   "name": "python3"
  },
  "language_info": {
   "codemirror_mode": {
    "name": "ipython",
    "version": 3
   },
   "file_extension": ".py",
   "mimetype": "text/x-python",
   "name": "python",
   "nbconvert_exporter": "python",
   "pygments_lexer": "ipython3",
   "version": "3.10.7"
  }
 },
 "nbformat": 4,
 "nbformat_minor": 5
}
