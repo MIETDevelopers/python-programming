{
 "cells": [
  {
   "cell_type": "code",
   "execution_count": 1,
   "id": "5602f17f",
   "metadata": {},
   "outputs": [
    {
     "name": "stdout",
     "output_type": "stream",
     "text": [
      "40.00 Celsius is equivalent to: 104.00 Fahrenheit\n"
     ]
    }
   ],
   "source": [
    "celsius = 40\n",
    "\n",
    "fahrenheit = (celsius * 1.8) + 32\n",
    "\n",
    "# printing the result\n",
    "print(\"%.2f Celsius is equivalent to: %.2f Fahrenheit\" %(celsius,fahrenheit))"
   ]
  },
  {
   "cell_type": "code",
   "execution_count": 2,
   "id": "03e0585d",
   "metadata": {},
   "outputs": [
    {
     "name": "stdout",
     "output_type": "stream",
     "text": [
      "Enter the temperature: 37\n",
      "37.00 Celsius is equivalent to: 98.60 Fahrenheit\n"
     ]
    }
   ],
   "source": [
    "celsius = int(input(\"Enter the temperature: \"))\n",
    "\n",
    "fahrenheit = (celsius * 1.8) + 32\n",
    "\n",
    "# printing the result\n",
    "print(\"%.2f Celsius is equivalent to: %.2f Fahrenheit\" %(celsius,fahrenheit))"
   ]
  },
  {
   "cell_type": "code",
   "execution_count": 3,
   "id": "1011681a",
   "metadata": {},
   "outputs": [
    {
     "name": "stdout",
     "output_type": "stream",
     "text": [
      "Enter the temperature in Celsius: 37\n",
      "Temperature in Celsius = 37.00\n",
      "Temperature in Fahrenheit = 98.60\n"
     ]
    }
   ],
   "source": [
    "def ConvertCtoF(C):# Convert the Celsius into Fahrenheit\n",
    "    F = (C* 1.8) + 32\n",
    "    return F\n",
    "\n",
    "C = float(input(\"Enter the temperature in Celsius: \"))\n",
    "\n",
    "print(\"Temperature in Celsius = {:.2f}\".format(C))\n",
    "print(\"Temperature in Fahrenheit = {:.2f}\".format(ConvertCtoF(C)))"
   ]
  },
  {
   "cell_type": "code",
   "execution_count": 4,
   "id": "1579a245",
   "metadata": {},
   "outputs": [
    {
     "name": "stdout",
     "output_type": "stream",
     "text": [
      "Enter the temperature in Fahrenheit: 37\n",
      "Temperature in Fahrenheit = 37.00\n",
      "Temperature in Celsius = 2.78\n"
     ]
    }
   ],
   "source": [
    "def ConvertFtoC(F):\n",
    "    C = (5 / 9) * (F - 32)\n",
    "    return C\n",
    "\n",
    "F = float(input(\"Enter the temperature in Fahrenheit: \"))\n",
    "\n",
    "print(\"Temperature in Fahrenheit = {:.2f}\".format(F))\n",
    "print(\"Temperature in Celsius = {:.2f}\".format(ConvertFtoC(F)))"
   ]
  },
  {
   "cell_type": "code",
   "execution_count": null,
   "id": "ae7c338b",
   "metadata": {},
   "outputs": [],
   "source": []
  }
 ],
 "metadata": {
  "kernelspec": {
   "display_name": "Python 3 (ipykernel)",
   "language": "python",
   "name": "python3"
  },
  "language_info": {
   "codemirror_mode": {
    "name": "ipython",
    "version": 3
   },
   "file_extension": ".py",
   "mimetype": "text/x-python",
   "name": "python",
   "nbconvert_exporter": "python",
   "pygments_lexer": "ipython3",
   "version": "3.10.7"
  }
 },
 "nbformat": 4,
 "nbformat_minor": 5
}
