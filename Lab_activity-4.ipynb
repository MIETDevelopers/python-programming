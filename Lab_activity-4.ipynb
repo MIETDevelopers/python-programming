{
 "cells": [
  {
   "cell_type": "code",
   "execution_count": 10,
   "id": "9e07f179",
   "metadata": {},
   "outputs": [
    {
     "name": "stdout",
     "output_type": "stream",
     "text": [
      "Element found at index: 4\n"
     ]
    }
   ],
   "source": [
    "def linear_Search(list1, n, key):\n",
    "    for i in range(0,n):\n",
    "        if (list1[i]==key):\n",
    "            return i\n",
    "    return i\n",
    "list1 = [1, 3, 5, 4, 7, 9]\n",
    "key = 7\n",
    "n = len(list1)\n",
    "res = linear_Search(list1, n, key)\n",
    "if(res == -1):\n",
    "    print(\"Element not found\")\n",
    "else:\n",
    "    print(\"Element found at index:\", res)"
   ]
  },
  {
   "cell_type": "code",
   "execution_count": 12,
   "id": "345ef64d",
   "metadata": {},
   "outputs": [
    {
     "name": "stdout",
     "output_type": "stream",
     "text": [
      "Element is present at index: 4\n"
     ]
    }
   ],
   "source": [
    "def binary_search(list1, n):\n",
    "    low = 0\n",
    "    high = len(list1)-1\n",
    "    mid = 0\n",
    "    while low <= high:\n",
    "        mid = (high + low)//2\n",
    "        if list1[mid]<n:\n",
    "            low = mid + 1\n",
    "        elif list1[mid]>n:\n",
    "            high = mid-1\n",
    "        else:\n",
    "            return mid\n",
    "    return -1\n",
    "list1 = [12, 24, 32, 39, 45, 50, 54]\n",
    "n = 45\n",
    "result = binary_search(list1, n)\n",
    "if result != -1:\n",
    "    print(\"Element is present at index:\", str(result))\n",
    "else:\n",
    "    print(\"Element is not present in list1\")\n",
    "    "
   ]
  },
  {
   "cell_type": "code",
   "execution_count": 17,
   "id": "fc124002",
   "metadata": {},
   "outputs": [
    {
     "name": "stdout",
     "output_type": "stream",
     "text": [
      "Element is present at index:  3\n"
     ]
    }
   ],
   "source": [
    "def binary_search(list1, low, high, n):\n",
    "    if low <= high:\n",
    "        mid = (low + high)//2\n",
    "        if list1[mid] == n:\n",
    "            return mid\n",
    "        elif list1[mid]>n:\n",
    "            return binary_search(list1, low, mid-1, n)\n",
    "        else:\n",
    "            return binary_search(list1, mid + 1, high, n)\n",
    "    else:\n",
    "        return -1\n",
    "list1 = [12, 24, 32, 39, 45, 50, 54]\n",
    "n = 39\n",
    "res = binary_search(list1, 0, len(list1)-1, n)\n",
    "if res!=-1:\n",
    "    print(\"Element is present at index: \", str(res))\n",
    "else:\n",
    "    print(\"Element is not present in list1 \")"
   ]
  },
  {
   "cell_type": "code",
   "execution_count": null,
   "id": "f9eac19c",
   "metadata": {},
   "outputs": [],
   "source": []
  }
 ],
 "metadata": {
  "kernelspec": {
   "display_name": "Python 3 (ipykernel)",
   "language": "python",
   "name": "python3"
  },
  "language_info": {
   "codemirror_mode": {
    "name": "ipython",
    "version": 3
   },
   "file_extension": ".py",
   "mimetype": "text/x-python",
   "name": "python",
   "nbconvert_exporter": "python",
   "pygments_lexer": "ipython3",
   "version": "3.10.7"
  }
 },
 "nbformat": 4,
 "nbformat_minor": 5
}
