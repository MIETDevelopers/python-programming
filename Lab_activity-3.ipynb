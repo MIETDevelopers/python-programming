{
 "cells": [
  {
   "cell_type": "code",
   "execution_count": 1,
   "id": "692a7b00",
   "metadata": {},
   "outputs": [
    {
     "name": "stdout",
     "output_type": "stream",
     "text": [
      "The original string is:geeksforgeeks !! $ is best 4 all Geeks 10-0\n",
      "Count of Alphabets: 27\n"
     ]
    }
   ],
   "source": [
    "test_str = 'geeksforgeeks !! $ is best 4 all Geeks 10-0'\n",
    "print(\"The original string is:\" + str(test_str))\n",
    "res = len([ele for ele in test_str if ele.isalpha()])\n",
    "print(\"Count of Alphabets: \" + str(res))"
   ]
  },
  {
   "cell_type": "code",
   "execution_count": 9,
   "id": "91266cf9",
   "metadata": {},
   "outputs": [
    {
     "name": "stdout",
     "output_type": "stream",
     "text": [
      "The original string is:geeksforgeeks !! $ is best 4 all Geeks 10-0\n"
     ]
    }
   ],
   "source": [
    "test_str = \"geeksforgeeks !! $ is best 4 all Geeks 10-0\"\n",
    "print(\"The original string is:\" + str(test_str))\n",
    "res = len([ele for ele in test_str if ele in string.ascii_uppercase or ele in string.ascii_lowercase  ])\n",
    "print(\"Count of Alphabets: \" + str(res))"
   ]
  },
  {
   "cell_type": "code",
   "execution_count": 12,
   "id": "7ab5a704",
   "metadata": {},
   "outputs": [
    {
     "name": "stdout",
     "output_type": "stream",
     "text": [
      "The original list is: ['geeksforgeeks', 'is', 'best', 'for', 'geeks']\n",
      "Range characters: is best for geek\n"
     ]
    }
   ],
   "source": [
    "test_list = [\"geeksforgeeks\", \"is\", \"best\", \"for\", \"geeks\"]\n",
    "print(\"The original list is: \" + str(test_list))\n",
    "strt,end = 14,30\n",
    "res = \" \".join([sub for sub in test_list])[strt : end]\n",
    "print(\"Range characters: \" + str(res))"
   ]
  },
  {
   "cell_type": "code",
   "execution_count": 13,
   "id": "e896a9a6",
   "metadata": {},
   "outputs": [
    {
     "name": "stdout",
     "output_type": "stream",
     "text": [
      "abc 123 is alphanumeric? False\n",
      "abc_123 is alphanumeric? False\n",
      "0000 is alphanumeric? True\n",
      "aaaa is alphanumeric? True\n"
     ]
    }
   ],
   "source": [
    "string = \"abc 123\"\n",
    "print(string, \"is alphanumeric?\", string.isalnum())\n",
    "string = \"abc_123\"\n",
    "print(string, \"is alphanumeric?\", string.isalnum())\n",
    "string = \"0000\"\n",
    "print(string, \"is alphanumeric?\", string.isalnum())\n",
    "string = \"aaaa\"\n",
    "print(string, \"is alphanumeric?\", string.isalnum())"
   ]
  },
  {
   "cell_type": "code",
   "execution_count": 14,
   "id": "628d1122",
   "metadata": {},
   "outputs": [
    {
     "name": "stdout",
     "output_type": "stream",
     "text": [
      "Password is alphanumeric.\n"
     ]
    }
   ],
   "source": [
    "password = \"user123456\"\n",
    "if password.isalnum():\n",
    "    print(\"Password is alphanumeric.\")\n",
    "else:\n",
    "    print(\"Password is not alphanumeric.\")"
   ]
  },
  {
   "cell_type": "code",
   "execution_count": null,
   "id": "1d5252be",
   "metadata": {},
   "outputs": [],
   "source": []
  }
 ],
 "metadata": {
  "kernelspec": {
   "display_name": "Python 3 (ipykernel)",
   "language": "python",
   "name": "python3"
  },
  "language_info": {
   "codemirror_mode": {
    "name": "ipython",
    "version": 3
   },
   "file_extension": ".py",
   "mimetype": "text/x-python",
   "name": "python",
   "nbconvert_exporter": "python",
   "pygments_lexer": "ipython3",
   "version": "3.10.7"
  }
 },
 "nbformat": 4,
 "nbformat_minor": 5
}
