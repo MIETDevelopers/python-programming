{
 "cells": [
  {
   "cell_type": "code",
   "execution_count": 7,
   "id": "a1887cea",
   "metadata": {},
   "outputs": [
    {
     "name": "stdout",
     "output_type": "stream",
     "text": [
      "1\n",
      "3\n",
      "5\n",
      "7\n",
      "9\n"
     ]
    }
   ],
   "source": [
    "list = [1, 3, 5, 7, 9]\n",
    "for i in list:\n",
    "    print(i)"
   ]
  },
  {
   "cell_type": "code",
   "execution_count": 5,
   "id": "4f679c63",
   "metadata": {},
   "outputs": [
    {
     "name": "stdout",
     "output_type": "stream",
     "text": [
      "1\n",
      "3\n",
      "5\n",
      "7\n",
      "9\n"
     ]
    }
   ],
   "source": [
    "list = [1, 3, 5, 7, 9]\n",
    "length = len(list)\n",
    "for i in range(length):\n",
    "    print(list[i])"
   ]
  },
  {
   "cell_type": "code",
   "execution_count": 8,
   "id": "f57c042b",
   "metadata": {},
   "outputs": [
    {
     "name": "stdout",
     "output_type": "stream",
     "text": [
      "1\n",
      "3\n",
      "5\n",
      "7\n",
      "9\n"
     ]
    }
   ],
   "source": [
    "list = [1, 3, 5, 7, 9]\n",
    "length = len(list)\n",
    "i = 0\n",
    "while i<length:\n",
    "    print(list[i])\n",
    "    i+=1"
   ]
  },
  {
   "cell_type": "code",
   "execution_count": 9,
   "id": "5faf77c7",
   "metadata": {},
   "outputs": [
    {
     "name": "stdout",
     "output_type": "stream",
     "text": [
      "1\n",
      "3\n",
      "5\n",
      "7\n",
      "9\n"
     ]
    },
    {
     "data": {
      "text/plain": [
       "[None, None, None, None, None]"
      ]
     },
     "execution_count": 9,
     "metadata": {},
     "output_type": "execute_result"
    }
   ],
   "source": [
    "list = [1, 3, 5, 7, 9]\n",
    "[print(i) for i in list]"
   ]
  },
  {
   "cell_type": "code",
   "execution_count": 15,
   "id": "9281a6a9",
   "metadata": {},
   "outputs": [
    {
     "name": "stdout",
     "output_type": "stream",
     "text": [
      "dict_keys(['Gujarat', 'Maharastra', 'Rajasthan', 'Bihar'])\n"
     ]
    }
   ],
   "source": [
    "stateAndCapitals = {\n",
    "    'Gujarat':'Gandhinagar',\n",
    "    'Maharastra':'Mumbai',\n",
    "    'Rajasthan':'Jaipur',\n",
    "    'Bihar':'Patna'\n",
    "}\n",
    "key = stateAndCapitals.keys()\n",
    "print(key)"
   ]
  },
  {
   "cell_type": "code",
   "execution_count": 37,
   "id": "824e2ff3",
   "metadata": {},
   "outputs": [
    {
     "name": "stdout",
     "output_type": "stream",
     "text": [
      "list of states:\n",
      "\n",
      "Gujarat\n",
      "Maharastra\n",
      "Rajasthan\n",
      "Bihar\n"
     ]
    }
   ],
   "source": [
    "stateAndCapitals = {\n",
    "    'Gujarat':'Gandhinagar',\n",
    "    'Maharastra':'Mumbai',\n",
    "    'Rajasthan':'Jaipur',\n",
    "    'Bihar':'Patna'\n",
    "}\n",
    "print(\"list of states:\\n\")\n",
    "for i in stateAndCapitals:\n",
    "    print(i)"
   ]
  },
  {
   "cell_type": "code",
   "execution_count": 28,
   "id": "998de442",
   "metadata": {},
   "outputs": [
    {
     "name": "stdout",
     "output_type": "stream",
     "text": [
      "list of Capitals:\n",
      "\n",
      "Gandhinagar\n",
      "Mumbai\n",
      "Jaipur\n",
      "Patna\n"
     ]
    }
   ],
   "source": [
    "stateAndCapitals = {\n",
    "    'Gujarat':'Gandhinagar',\n",
    "    'Maharastra':'Mumbai',\n",
    "    'Rajasthan':'Jaipur',\n",
    "    'Bihar':'Patna'\n",
    "}\n",
    "print(\"list of Capitals:\\n\")\n",
    "for i in stateAndCapitals.values():\n",
    "    print(i)"
   ]
  },
  {
   "cell_type": "code",
   "execution_count": 36,
   "id": "b2d4c827",
   "metadata": {},
   "outputs": [
    {
     "name": "stdout",
     "output_type": "stream",
     "text": [
      "list of States and Capitals:\n",
      "\n",
      "Gujarat : Gandhinagar\n",
      "Maharastra : Mumbai\n",
      "Rajasthan : Jaipur\n",
      "Bihar : Patna\n"
     ]
    }
   ],
   "source": [
    "stateAndCapitals = {\n",
    "    'Gujarat':'Gandhinagar',\n",
    "    'Maharastra':'Mumbai',\n",
    "    'Rajasthan':'Jaipur',\n",
    "    'Bihar':'Patna'\n",
    "}\n",
    "print(\"list of States and Capitals:\\n\")\n",
    "for i, j in stateAndCapitals.items():\n",
    "    print(i, \":\", j)"
   ]
  },
  {
   "cell_type": "code",
   "execution_count": 40,
   "id": "c50708a4",
   "metadata": {},
   "outputs": [
    {
     "name": "stdout",
     "output_type": "stream",
     "text": [
      "list of States and Capitals:\n",
      "\n",
      "Gujarat :  Gandhinagar\n",
      "Maharastra :  Mumbai\n",
      "Rajasthan :  Jaipur\n",
      "Bihar :  Patna\n"
     ]
    }
   ],
   "source": [
    "stateAndCapitals = {\n",
    "    'Gujarat':'Gandhinagar',\n",
    "    'Maharastra':'Mumbai',\n",
    "    'Rajasthan':'Jaipur',\n",
    "    'Bihar':'Patna'\n",
    "}\n",
    "print(\"list of States and Capitals:\\n\")\n",
    "for i in stateAndCapitals:\n",
    "        print(i, \": \", stateAndCapitals[i])"
   ]
  },
  {
   "cell_type": "code",
   "execution_count": 41,
   "id": "14001e7d",
   "metadata": {},
   "outputs": [
    {
     "name": "stdout",
     "output_type": "stream",
     "text": [
      "list of States and Capitals:\n",
      "\n",
      "dict_items([('Gujarat', 'Gandhinagar'), ('Maharastra', 'Mumbai'), ('Rajasthan', 'Jaipur'), ('Bihar', 'Patna')])\n"
     ]
    }
   ],
   "source": [
    "stateAndCapitals = {\n",
    "    'Gujarat':'Gandhinagar',\n",
    "    'Maharastra':'Mumbai',\n",
    "    'Rajasthan':'Jaipur',\n",
    "    'Bihar':'Patna'\n",
    "}\n",
    "print(\"list of States and Capitals:\\n\")\n",
    "items = stateAndCapitals.items()\n",
    "print(items)"
   ]
  },
  {
   "cell_type": "code",
   "execution_count": null,
   "id": "65316131",
   "metadata": {},
   "outputs": [],
   "source": []
  }
 ],
 "metadata": {
  "kernelspec": {
   "display_name": "Python 3 (ipykernel)",
   "language": "python",
   "name": "python3"
  },
  "language_info": {
   "codemirror_mode": {
    "name": "ipython",
    "version": 3
   },
   "file_extension": ".py",
   "mimetype": "text/x-python",
   "name": "python",
   "nbconvert_exporter": "python",
   "pygments_lexer": "ipython3",
   "version": "3.10.7"
  }
 },
 "nbformat": 4,
 "nbformat_minor": 5
}
